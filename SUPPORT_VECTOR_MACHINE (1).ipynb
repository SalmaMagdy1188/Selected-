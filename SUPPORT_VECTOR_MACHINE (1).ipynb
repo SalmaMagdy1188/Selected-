{
  "nbformat": 4,
  "nbformat_minor": 0,
  "metadata": {
    "colab": {
      "private_outputs": true,
      "provenance": []
    },
    "kernelspec": {
      "name": "python3",
      "display_name": "Python 3"
    },
    "language_info": {
      "name": "python"
    }
  },
  "cells": [
    {
      "cell_type": "code",
      "execution_count": null,
      "metadata": {
        "id": "BuOeBXkNFxW_"
      },
      "outputs": [],
      "source": [
        "import numpy as np\n",
        "import matplotlib.pyplot as plt\n",
        "import seaborn as sns\n",
        "import cv2\n",
        "from google.colab.patches import cv2_imshow\n",
        "from PIL import Image\n",
        "import tensorflow as tf\n",
        "tf.random.set_seed(3)\n",
        "from tensorflow import keras\n",
        "from keras.datasets import mnist\n",
        "from tensorflow.math import confusion_matrix"
      ]
    },
    {
      "cell_type": "code",
      "source": [
        "(X_train, Y_train), (X_test, Y_test) =  mnist.load_data()"
      ],
      "metadata": {
        "id": "xwgJTBjxGgUG"
      },
      "execution_count": null,
      "outputs": []
    },
    {
      "cell_type": "code",
      "source": [
        "type(X_train)"
      ],
      "metadata": {
        "id": "ZlSZJoG3Gi3x"
      },
      "execution_count": null,
      "outputs": []
    },
    {
      "cell_type": "code",
      "source": [
        "# shape of the numpy arrays\n",
        "print(X_train.shape, Y_train.shape, X_test.shape, Y_test.shape)"
      ],
      "metadata": {
        "id": "XSppWTlzGs_G"
      },
      "execution_count": null,
      "outputs": []
    },
    {
      "cell_type": "markdown",
      "source": [
        "Training data = 60,000 Images\n",
        "\n",
        "Test data = 10,000 Images\n",
        "\n",
        "Image dimension --> 28 x 28\n",
        "\n",
        "Grayscale Image --> 1 channel"
      ],
      "metadata": {
        "id": "gOGAh0HxGy1V"
      }
    },
    {
      "cell_type": "code",
      "source": [
        "# printing the 10th image\n",
        "\n",
        "print(X_train[10])"
      ],
      "metadata": {
        "id": "locst2DwG4HY"
      },
      "execution_count": null,
      "outputs": []
    },
    {
      "cell_type": "code",
      "source": [
        "print(X_train[10].shape)"
      ],
      "metadata": {
        "id": "_v6QwwuAG-Oh"
      },
      "execution_count": null,
      "outputs": []
    },
    {
      "cell_type": "code",
      "source": [
        "# displaying the image\n",
        "\n",
        "plt.imshow(X_train[25])\n",
        "plt.show()\n",
        "\n",
        "# print the corresponding label\n",
        "print(Y_train[25])"
      ],
      "metadata": {
        "id": "4izb5eOTHCkH"
      },
      "execution_count": null,
      "outputs": []
    },
    {
      "cell_type": "code",
      "source": [
        "print(Y_train.shape, Y_test.shape)"
      ],
      "metadata": {
        "id": "mu_riVGzHFJc"
      },
      "execution_count": null,
      "outputs": []
    },
    {
      "cell_type": "code",
      "source": [
        "# unique values in Y_train\n",
        "print(np.unique(Y_train))\n",
        "\n",
        "# unique values in Y_test\n",
        "print(np.unique(Y_test))"
      ],
      "metadata": {
        "id": "RPjyd5DZHMLc"
      },
      "execution_count": null,
      "outputs": []
    },
    {
      "cell_type": "code",
      "source": [
        "# scaling the values\n",
        "\n",
        "X_train = X_train/255\n",
        "X_test = X_test/255"
      ],
      "metadata": {
        "id": "zV0FZokMHP4g"
      },
      "execution_count": null,
      "outputs": []
    },
    {
      "cell_type": "code",
      "source": [
        "# printing the 10th image\n",
        "\n",
        "print(X_train[10])"
      ],
      "metadata": {
        "id": "mlc6XmQsHUhn"
      },
      "execution_count": null,
      "outputs": []
    },
    {
      "cell_type": "code",
      "source": [
        "from sklearn.model_selection import train_test_split\n",
        "from sklearn.metrics import accuracy_score\n",
        "from sklearn.svm import SVC\n",
        "from sklearn import datasets\n",
        "from sklearn import svm\n",
        "from sklearn.preprocessing import StandardScaler\n",
        "\n",
        "from sklearn.metrics import confusion_matrix\n",
        "from matplotlib.colors import ListedColormap"
      ],
      "metadata": {
        "id": "y7lGGwwcHdll"
      },
      "execution_count": null,
      "outputs": []
    },
    {
      "cell_type": "code",
      "source": [
        "import pandas as pd\n",
        "import numpy as np\n",
        "import matplotlib.pyplot as plt\n",
        "from sklearn import datasets\n",
        "from sklearn import svm\n",
        "from sklearn.preprocessing import StandardScaler\n",
        "\n",
        "from sklearn.metrics import confusion_matrix\n",
        "from matplotlib.colors import ListedColormap\n",
        "\n"
      ],
      "metadata": {
        "id": "WG2KYmNbHiPU"
      },
      "execution_count": null,
      "outputs": []
    },
    {
      "cell_type": "code",
      "source": [
        "from numpy.ma.core import expand_dims\n",
        "model = SVC()\n",
        "X_train=expand_dims(X_train,1)\n",
        "# train_images.shape\n",
        "train_images=X_train.reshape(60000,28*28)\n",
        "# test_images.shape\n",
        "test_images=X_test.reshape(10000,28*28)\n",
        "model.fit(train_images,Y_train)\n",
        "#  Check classifier accuracy on test data and see result \n",
        "Y_predict = model.predict(test_images)\n",
        "print(\"Accuracy: \",accuracy_score(Y_test, Y_predict)*100)"
      ],
      "metadata": {
        "id": "hCWSIT-5IAEA"
      },
      "execution_count": null,
      "outputs": []
    },
    {
      "cell_type": "code",
      "source": [
        "\n",
        "\n",
        "p=np.arange(0,1,0.01)\n",
        "plt.plot(p,-1 *np.log(p))\n",
        "plt.show()\n",
        "plt.plot(p,-1 * (np.log(1-p)))\n",
        "plt.show()\n",
        "plt.plot(p,-1 * np.log(p))\n",
        "plt.plot(p,-1 * (np.log(1-p)), 'r')\n",
        "plt.show()"
      ],
      "metadata": {
        "id": "C5uIdcx_N6z_"
      },
      "execution_count": null,
      "outputs": []
    },
    {
      "cell_type": "code",
      "source": [
        "print(X_test.shape)"
      ],
      "metadata": {
        "id": "r0AVNWHbIA70"
      },
      "execution_count": null,
      "outputs": []
    },
    {
      "cell_type": "code",
      "source": [
        "# first data point in X_test\n",
        "plt.imshow(X_test[0])\n",
        "plt.show()"
      ],
      "metadata": {
        "id": "OrRSqxWKIL3p"
      },
      "execution_count": null,
      "outputs": []
    },
    {
      "cell_type": "code",
      "source": [
        "print(Y_test[0])"
      ],
      "metadata": {
        "id": "sQOzTtcbIU9m"
      },
      "execution_count": null,
      "outputs": []
    },
    {
      "cell_type": "code",
      "source": [
        "print(Y_predict.shape)"
      ],
      "metadata": {
        "id": "GnT3axAYIVmo"
      },
      "execution_count": null,
      "outputs": []
    },
    {
      "cell_type": "code",
      "source": [
        "print(Y_predict[0])"
      ],
      "metadata": {
        "id": "g2jNsnJ1IjFB"
      },
      "execution_count": null,
      "outputs": []
    },
    {
      "cell_type": "markdown",
      "source": [
        "Confusin Matrix"
      ],
      "metadata": {
        "id": "afWgpr4hJEpx"
      }
    },
    {
      "cell_type": "code",
      "source": [
        "# conf_mat = confusion_matrix(Y_test, Y_pred_labels)\n",
        "confMat = confusion_matrix(Y_test, Y_predict)\n"
      ],
      "metadata": {
        "id": "Kgxi2qEDJFk0"
      },
      "execution_count": null,
      "outputs": []
    },
    {
      "cell_type": "code",
      "source": [
        "print(confMat)"
      ],
      "metadata": {
        "id": "GvO0PFuFJBkR"
      },
      "execution_count": null,
      "outputs": []
    },
    {
      "cell_type": "code",
      "source": [
        "import seaborn as sns\n",
        "sns.heatmap(confMat,annot=True)"
      ],
      "metadata": {
        "id": "Ch-pfSpUv79v"
      },
      "execution_count": null,
      "outputs": []
    },
    {
      "cell_type": "code",
      "source": [
        "plt.figure(figsize=(15,7))\n",
        "sns.heatmap(confMat, annot=True, fmt='d', cmap='Blues')\n",
        "plt.ylabel('True Labels')\n",
        "plt.xlabel('Predicted Labels')"
      ],
      "metadata": {
        "id": "-Dor2o2LJObL"
      },
      "execution_count": null,
      "outputs": []
    },
    {
      "cell_type": "code",
      "source": [
        "X_test.shape\n"
      ],
      "metadata": {
        "id": "Y030rVNchKUc"
      },
      "execution_count": null,
      "outputs": []
    },
    {
      "cell_type": "code",
      "source": [
        "Y_predict.shape"
      ],
      "metadata": {
        "id": "me8mb32f5sAB"
      },
      "execution_count": null,
      "outputs": []
    },
    {
      "cell_type": "code",
      "source": [
        "from sklearn.metrics import roc_curve,auc\n",
        "fpr_sum = np.zeros(3)\n",
        "tpr_sum = np.zeros(3)\n",
        "for class_num in range(10):\n",
        "  predications = []\n",
        "  true_labels = []\n",
        "  for i in range(10000):\n",
        "    if(Y_predict[i] == class_num):\n",
        "      predications.append(1)\n",
        "    else:\n",
        "      predications.append(0)\n",
        "\n",
        "    if(Y_test[i] == class_num):\n",
        "      true_labels.append(1)\n",
        "    else:\n",
        "      true_labels.append(0)\n",
        "\n",
        "  predications = np.array(predications)\n",
        "  true_labels = np.array(true_labels)\n",
        "  fpr,tpr,_ = roc_curve(true_labels,predications)\n",
        "  fpr_sum += fpr\n",
        "  tpr_sum += tpr\n",
        "\n",
        "fpr = fpr_sum / 100\n",
        "tpr = tpr_sum / 100\n",
        "\n",
        "roc_auc = auc(fpr, tpr)\n",
        "plt.plot(fpr, tpr, label='ROC Curve (AUC = %0.2f)' % (roc_auc))\n",
        "plt.plot([0, 1], [0, 1], linestyle='--', color='red', label='Random Classifier')   \n",
        "plt.plot([0, 0, 1], [0, 1, 1], linestyle=':', color='green', label='Perfect Classifier')\n",
        "plt.xlim([-0.05, 1.05])\n",
        "plt.ylim([-0.05, 1.05])\n",
        "plt.xlabel('False positive rate')\n",
        "plt.ylabel('True positive rate')\n",
        "plt.legend(loc=\"lower right\")\n",
        "plt.show()"
      ],
      "metadata": {
        "id": "aeNB751_3Dj2"
      },
      "execution_count": null,
      "outputs": []
    },
    {
      "cell_type": "code",
      "source": [
        "# # converting C to numeric type for plotting on x-axis\n",
        "# cv_results['param_C'] = cv_results['param_C'].astype('int')\n",
        "\n",
        "# # # plotting\n",
        "# plt.figure(figsize=(16,8))\n",
        "\n",
        "# # subplot 1/3\n",
        "# plt.subplot(131)\n",
        "# gamma_01 = cv_results[cv_results['param_gamma']==0.01]\n",
        "\n",
        "# plt.plot(gamma_01[\"param_C\"], gamma_01[\"mean_test_score\"])\n",
        "# plt.plot(gamma_01[\"param_C\"], gamma_01[\"mean_train_score\"])\n",
        "# plt.xlabel('C')\n",
        "# plt.ylabel('Accuracy')\n",
        "# plt.title(\"Gamma=0.01\")\n",
        "# plt.ylim([0.60, 1])\n",
        "# plt.legend(['test accuracy', 'train accuracy'], loc='upper left')\n",
        "# plt.xscale('log')\n",
        "\n",
        "\n",
        "# # subplot 2/3\n",
        "# plt.subplot(132)\n",
        "# gamma_001 = cv_results[cv_results['param_gamma']==0.001]\n",
        "\n",
        "# plt.plot(gamma_001[\"param_C\"], gamma_001[\"mean_test_score\"])\n",
        "# plt.plot(gamma_001[\"param_C\"], gamma_001[\"mean_train_score\"])\n",
        "# plt.xlabel('C')\n",
        "# plt.ylabel('Accuracy')\n",
        "# plt.title(\"Gamma=0.001\")\n",
        "# plt.ylim([0.60, 1])\n",
        "# plt.legend(['test accuracy', 'train accuracy'], loc='upper left')\n",
        "# plt.xscale('log')\n",
        "\n",
        "# # subplot 3/3\n",
        "# plt.subplot(133)\n",
        "# gamma_0001 = cv_results[cv_results['param_gamma']==0.0001]\n",
        "\n",
        "# plt.plot(gamma_0001[\"param_C\"], gamma_0001[\"mean_test_score\"])\n",
        "# plt.plot(gamma_0001[\"param_C\"], gamma_0001[\"mean_train_score\"])\n",
        "# plt.xlabel('C')\n",
        "# plt.ylabel('Accuracy')\n",
        "# plt.title(\"Gamma=0.0001\")\n",
        "# plt.ylim([0.60, 1])\n",
        "# plt.legend(['test accuracy', 'train accuracy'], loc='upper left')\n",
        "# plt.xscale('log')"
      ],
      "metadata": {
        "id": "_VmVoU4j-zve"
      },
      "execution_count": null,
      "outputs": []
    },
    {
      "cell_type": "code",
      "source": [],
      "metadata": {
        "id": "q5nVn4xH78ei"
      },
      "execution_count": null,
      "outputs": []
    }
  ]
}